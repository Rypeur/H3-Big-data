{
 "cells": [
  {
   "cell_type": "code",
   "execution_count": 140,
   "metadata": {},
   "outputs": [],
   "source": [
    "from pyspark import *\n",
    "from pyspark.sql import *\n",
    "from pyspark.sql.types import *\n",
    "import urllib.request\n",
    "from time import time\n",
    "from pyspark.sql.functions import udf\n",
    "import pyspark.sql.functions as F"
   ]
  },
  {
   "cell_type": "code",
   "execution_count": 2,
   "metadata": {},
   "outputs": [
    {
     "data": {
      "text/html": [
       "\n",
       "        <div>\n",
       "            <p><b>SparkContext</b></p>\n",
       "\n",
       "            <p><a href=\"http://e40378760f2e:4040\">Spark UI</a></p>\n",
       "\n",
       "            <dl>\n",
       "              <dt>Version</dt>\n",
       "                <dd><code>v2.4.4</code></dd>\n",
       "              <dt>Master</dt>\n",
       "                <dd><code>local</code></dd>\n",
       "              <dt>AppName</dt>\n",
       "                <dd><code>test</code></dd>\n",
       "            </dl>\n",
       "        </div>\n",
       "        "
      ],
      "text/plain": [
       "<SparkContext master=local appName=test>"
      ]
     },
     "execution_count": 2,
     "metadata": {},
     "output_type": "execute_result"
    }
   ],
   "source": [
    "sc = SparkContext(master=\"local\", appName=\"test\")\n",
    "sc"
   ]
  },
  {
   "cell_type": "code",
   "execution_count": 3,
   "metadata": {},
   "outputs": [
    {
     "data": {
      "text/plain": [
       "<pyspark.sql.context.SQLContext at 0x7fc6b0355780>"
      ]
     },
     "execution_count": 3,
     "metadata": {},
     "output_type": "execute_result"
    }
   ],
   "source": [
    "sqlContext = SQLContext(sc)\n",
    "sqlContext"
   ]
  },
  {
   "cell_type": "code",
   "execution_count": 4,
   "metadata": {},
   "outputs": [],
   "source": [
    "data = urllib.request.urlretrieve('http://kdd.ics.uci.edu/databases/kddcup99/kddcup.data_10_percent.gz','kddcup.data_10_percent.gz')"
   ]
  },
  {
   "cell_type": "code",
   "execution_count": 5,
   "metadata": {},
   "outputs": [],
   "source": [
    "data_file = \"./kddcup.data_10_percent.gz\"\n",
    "raw_data = sc.textFile(data_file)"
   ]
  },
  {
   "cell_type": "code",
   "execution_count": 6,
   "metadata": {},
   "outputs": [],
   "source": [
    "data_split = raw_data.map(lambda x: x.split(\",\"))"
   ]
  },
  {
   "cell_type": "code",
   "execution_count": 7,
   "metadata": {},
   "outputs": [
    {
     "data": {
      "text/plain": [
       "StructType(List(StructField(duration,IntegerType,true),StructField(protocol_type,StringType,true),StructField(service,StringType,true),StructField(flag,StringType,true),StructField(src_bytes,IntegerType,true),StructField(dst_bytes,IntegerType,true),StructField(interactions,StringType,true)))"
      ]
     },
     "execution_count": 7,
     "metadata": {},
     "output_type": "execute_result"
    }
   ],
   "source": [
    "schema = StructType(\n",
    "[\n",
    "    StructField('duration',IntegerType(),True),\n",
    "    StructField('protocol_type',StringType(),True),\n",
    "    StructField('service',StringType(),True),\n",
    "    StructField('flag',StringType(),True),\n",
    "    StructField('src_bytes',IntegerType(),True),\n",
    "    StructField('dst_bytes',IntegerType(),True),\n",
    "    StructField('interactions',StringType(),True)\n",
    "])\n",
    "schema"
   ]
  },
  {
   "cell_type": "code",
   "execution_count": 9,
   "metadata": {},
   "outputs": [],
   "source": [
    "dataFormatted = data_split.map(lambda p: (int(p[0]),p[1],p[2],p[3],int(p[4]),int(p[5]),p[-1]))"
   ]
  },
  {
   "cell_type": "code",
   "execution_count": 10,
   "metadata": {},
   "outputs": [
    {
     "data": {
      "text/plain": [
       "DataFrame[duration: int, protocol_type: string, service: string, flag: string, src_bytes: int, dst_bytes: int, interactions: string]"
      ]
     },
     "execution_count": 10,
     "metadata": {},
     "output_type": "execute_result"
    }
   ],
   "source": [
    "df = sqlContext.createDataFrame(dataFormatted,schema)\n",
    "df"
   ]
  },
  {
   "cell_type": "code",
   "execution_count": 11,
   "metadata": {},
   "outputs": [
    {
     "name": "stdout",
     "output_type": "stream",
     "text": [
      "+--------+-------------+-------+----+---------+---------+------------+\n",
      "|duration|protocol_type|service|flag|src_bytes|dst_bytes|interactions|\n",
      "+--------+-------------+-------+----+---------+---------+------------+\n",
      "|       0|          tcp|   http|  SF|      181|     5450|     normal.|\n",
      "|       0|          tcp|   http|  SF|      239|      486|     normal.|\n",
      "|       0|          tcp|   http|  SF|      235|     1337|     normal.|\n",
      "|       0|          tcp|   http|  SF|      219|     1337|     normal.|\n",
      "|       0|          tcp|   http|  SF|      217|     2032|     normal.|\n",
      "|       0|          tcp|   http|  SF|      217|     2032|     normal.|\n",
      "|       0|          tcp|   http|  SF|      212|     1940|     normal.|\n",
      "|       0|          tcp|   http|  SF|      159|     4087|     normal.|\n",
      "|       0|          tcp|   http|  SF|      210|      151|     normal.|\n",
      "|       0|          tcp|   http|  SF|      212|      786|     normal.|\n",
      "+--------+-------------+-------+----+---------+---------+------------+\n",
      "only showing top 10 rows\n",
      "\n"
     ]
    }
   ],
   "source": [
    "df.show(n=10)"
   ]
  },
  {
   "cell_type": "code",
   "execution_count": 24,
   "metadata": {},
   "outputs": [],
   "source": [
    "df.createOrReplaceTempView(\"interractions\")\n",
    "interractionView = sqlContext.sql(\"SELECT * FROM interractions\")"
   ]
  },
  {
   "cell_type": "code",
   "execution_count": 25,
   "metadata": {},
   "outputs": [
    {
     "name": "stdout",
     "output_type": "stream",
     "text": [
      "+--------+-------------+-------+----+---------+---------+------------+\n",
      "|duration|protocol_type|service|flag|src_bytes|dst_bytes|interactions|\n",
      "+--------+-------------+-------+----+---------+---------+------------+\n",
      "|       0|          tcp|   http|  SF|      181|     5450|     normal.|\n",
      "|       0|          tcp|   http|  SF|      239|      486|     normal.|\n",
      "|       0|          tcp|   http|  SF|      235|     1337|     normal.|\n",
      "|       0|          tcp|   http|  SF|      219|     1337|     normal.|\n",
      "|       0|          tcp|   http|  SF|      217|     2032|     normal.|\n",
      "|       0|          tcp|   http|  SF|      217|     2032|     normal.|\n",
      "|       0|          tcp|   http|  SF|      212|     1940|     normal.|\n",
      "|       0|          tcp|   http|  SF|      159|     4087|     normal.|\n",
      "|       0|          tcp|   http|  SF|      210|      151|     normal.|\n",
      "|       0|          tcp|   http|  SF|      212|      786|     normal.|\n",
      "|       0|          tcp|   http|  SF|      210|      624|     normal.|\n",
      "|       0|          tcp|   http|  SF|      177|     1985|     normal.|\n",
      "|       0|          tcp|   http|  SF|      222|      773|     normal.|\n",
      "|       0|          tcp|   http|  SF|      256|     1169|     normal.|\n",
      "|       0|          tcp|   http|  SF|      241|      259|     normal.|\n",
      "|       0|          tcp|   http|  SF|      260|     1837|     normal.|\n",
      "|       0|          tcp|   http|  SF|      241|      261|     normal.|\n",
      "|       0|          tcp|   http|  SF|      257|      818|     normal.|\n",
      "|       0|          tcp|   http|  SF|      233|      255|     normal.|\n",
      "|       0|          tcp|   http|  SF|      233|      504|     normal.|\n",
      "+--------+-------------+-------+----+---------+---------+------------+\n",
      "only showing top 20 rows\n",
      "\n"
     ]
    }
   ],
   "source": [
    "interractionView.show()"
   ]
  },
  {
   "cell_type": "markdown",
   "metadata": {},
   "source": [
    "Les TempView servent à créer une vue temporaire du DataFrame dans notre Spark Session."
   ]
  },
  {
   "cell_type": "code",
   "execution_count": 112,
   "metadata": {},
   "outputs": [
    {
     "data": {
      "text/plain": [
       "139"
      ]
     },
     "execution_count": 112,
     "metadata": {},
     "output_type": "execute_result"
    }
   ],
   "source": [
    "dataFilteredSql = sqlContext.sql(\"SELECT duration,dst_bytes FROM interractions WHERE duration > 1000 AND dst_bytes == 0 \")\n",
    "dataFilteredSql.count()"
   ]
  },
  {
   "cell_type": "code",
   "execution_count": 126,
   "metadata": {},
   "outputs": [
    {
     "data": {
      "text/plain": [
       "['Duration: 0, Dest. bytes: 5057',\n",
       " 'Duration: 0, Dest. bytes: 5059',\n",
       " 'Duration: 0, Dest. bytes: 5051',\n",
       " 'Duration: 0, Dest. bytes: 5056',\n",
       " 'Duration: 0, Dest. bytes: 5051',\n",
       " 'Duration: 0, Dest. bytes: 5039',\n",
       " 'Duration: 0, Dest. bytes: 5062',\n",
       " 'Duration: 0, Dest. bytes: 5041',\n",
       " 'Duration: 0, Dest. bytes: 5056',\n",
       " 'Duration: 0, Dest. bytes: 5064']"
      ]
     },
     "execution_count": 126,
     "metadata": {},
     "output_type": "execute_result"
    }
   ],
   "source": [
    "dataFilteredSql.rdd.map(lambda x : \"Duration: {0}, Dest. bytes: {1}\".format(x.dst_bytes,x.duration)).take(10)"
   ]
  },
  {
   "cell_type": "code",
   "execution_count": 150,
   "metadata": {},
   "outputs": [
    {
     "name": "stdout",
     "output_type": "stream",
     "text": [
      "+-------------+--------------------+\n",
      "|protocol_type|count(protocol_type)|\n",
      "+-------------+--------------------+\n",
      "|          tcp|              190065|\n",
      "|          udp|               20354|\n",
      "|         icmp|              283602|\n",
      "+-------------+--------------------+\n",
      "\n",
      "Times to execute the request : 19.03532361984253\n"
     ]
    }
   ],
   "source": [
    "t = time()\n",
    "\n",
    "dataFilteredSql = sqlContext.sql(\"SELECT protocol_type,count(protocol_type) FROM interractions GROUP BY protocol_type\")\n",
    "dataFilteredSql.show()\n",
    "\n",
    "\n",
    "elapsed_time = time() - t\n",
    "print(\"Times to execute the request : {0}\".format(elapsed_time))"
   ]
  },
  {
   "cell_type": "code",
   "execution_count": 151,
   "metadata": {},
   "outputs": [
    {
     "name": "stdout",
     "output_type": "stream",
     "text": [
      "+-------------+-----+\n",
      "|protocol_type|count|\n",
      "+-------------+-----+\n",
      "|          tcp|  139|\n",
      "+-------------+-----+\n",
      "\n",
      "Times to execute the request : 19.92646288871765\n"
     ]
    }
   ],
   "source": [
    "t = time()\n",
    "\n",
    "dataFiltered = interractionView.filter((interractionView.duration > 1000) & (interractionView.dst_bytes == 0))\n",
    "dataFiltered.groupby(\"protocol_type\").count().show()\n",
    "\n",
    "elapsed_time = time() - t\n",
    "print(\"Times to execute the request : {0}\".format(elapsed_time))"
   ]
  },
  {
   "cell_type": "code",
   "execution_count": 152,
   "metadata": {},
   "outputs": [
    {
     "name": "stdout",
     "output_type": "stream",
     "text": [
      "Times to execute the request : 17.510112285614014\n"
     ]
    }
   ],
   "source": [
    "t = time()\n",
    "\n",
    "dataFiltered.rdd.map(lambda p: \"Duration: {0}, Dest. bytes: {1}\".format(p.dst_bytes,p.duration)).take(5)\n",
    "\n",
    "elapsed_time = time() - t\n",
    "print(\"Times to execute the request : {0}\".format(elapsed_time))"
   ]
  },
  {
   "cell_type": "code",
   "execution_count": 135,
   "metadata": {},
   "outputs": [],
   "source": [
    "def attack_or_normal_func(s):\n",
    "    return \"normal\" if s == \"normal.\" else \"attack\"\n"
   ]
  },
  {
   "cell_type": "code",
   "execution_count": 155,
   "metadata": {},
   "outputs": [
    {
     "name": "stdout",
     "output_type": "stream",
     "text": [
      "root\n",
      " |-- duration: integer (nullable = true)\n",
      " |-- protocol_type: string (nullable = true)\n",
      " |-- service: string (nullable = true)\n",
      " |-- flag: string (nullable = true)\n",
      " |-- src_bytes: integer (nullable = true)\n",
      " |-- dst_bytes: integer (nullable = true)\n",
      " |-- interactions: string (nullable = true)\n",
      " |-- label: string (nullable = true)\n",
      "\n",
      "Times to execute the request : 0.0690300464630127\n"
     ]
    }
   ],
   "source": [
    "t = time()\n",
    "\n",
    "udf_label = F.udf(attack_or_normal_func, StringType())\n",
    "df = df.withColumn('label',udf_label(df.interactions))\n",
    "df.printSchema()\n",
    "\n",
    "elapsed_time = time() - t\n",
    "print(\"Times to execute the request : {0}\".format(elapsed_time))"
   ]
  },
  {
   "cell_type": "code",
   "execution_count": 157,
   "metadata": {},
   "outputs": [
    {
     "name": "stdout",
     "output_type": "stream",
     "text": [
      "+------+------+\n",
      "| label| count|\n",
      "+------+------+\n",
      "|normal| 97278|\n",
      "|attack|396743|\n",
      "+------+------+\n",
      "\n",
      "Times to execute the request : 20.233797311782837\n"
     ]
    }
   ],
   "source": [
    "t = time()\n",
    "\n",
    "df.groupby(\"label\").count().show()\n",
    "\n",
    "elapsed_time = time() - t\n",
    "print(\"Times to execute the request : {0}\".format(elapsed_time))"
   ]
  },
  {
   "cell_type": "code",
   "execution_count": 158,
   "metadata": {},
   "outputs": [
    {
     "name": "stdout",
     "output_type": "stream",
     "text": [
      "+------+-------------+------+\n",
      "| label|protocol_type| count|\n",
      "+------+-------------+------+\n",
      "|normal|          udp| 19177|\n",
      "|normal|         icmp|  1288|\n",
      "|normal|          tcp| 76813|\n",
      "|attack|         icmp|282314|\n",
      "|attack|          tcp|113252|\n",
      "|attack|          udp|  1177|\n",
      "+------+-------------+------+\n",
      "\n",
      "Times to execute the request : 23.962221384048462\n"
     ]
    }
   ],
   "source": [
    "t = time()\n",
    "\n",
    "df.groupby(\"label\",\"protocol_type\").count().show()\n",
    "\n",
    "elapsed_time = time() - t\n",
    "print(\"Times to execute the request : {0}\".format(elapsed_time))"
   ]
  },
  {
   "cell_type": "code",
   "execution_count": null,
   "metadata": {},
   "outputs": [],
   "source": []
  }
 ],
 "metadata": {
  "kernelspec": {
   "display_name": "Python 3",
   "language": "python",
   "name": "python3"
  },
  "language_info": {
   "codemirror_mode": {
    "name": "ipython",
    "version": 3
   },
   "file_extension": ".py",
   "mimetype": "text/x-python",
   "name": "python",
   "nbconvert_exporter": "python",
   "pygments_lexer": "ipython3",
   "version": "3.7.3"
  }
 },
 "nbformat": 4,
 "nbformat_minor": 2
}
